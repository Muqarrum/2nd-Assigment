{
 "cells": [
  {
   "cell_type": "code",
   "execution_count": 3,
   "id": "cbbb00e2",
   "metadata": {},
   "outputs": [
    {
     "name": "stdout",
     "output_type": "stream",
     "text": [
      "Smaller\n",
      "Finis\n"
     ]
    }
   ],
   "source": [
    "x = 5\n",
    "if x < 10:\n",
    "    print('Smaller')\n",
    "if x > 20:\n",
    "    print('Bigger')\n",
    "print('Finis')"
   ]
  },
  {
   "cell_type": "code",
   "execution_count": 5,
   "id": "e2d98dff",
   "metadata": {},
   "outputs": [
    {
     "name": "stdout",
     "output_type": "stream",
     "text": [
      "Equals 5\n",
      "Greater than 4\n",
      "Greater than or Equals 5\n",
      "Less than 6\n",
      "Less than or Equals 5\n",
      "Not equal 6\n"
     ]
    }
   ],
   "source": [
    "x = 5\n",
    "if x == 5 : \n",
    "    print('Equals 5')\n",
    "if x > 4 : \n",
    "    print('Greater than 4')\n",
    "if x >= 5 :\n",
    "    print('Greater than or Equals 5')\n",
    "if x < 6 :\n",
    "    print('Less than 6') \n",
    "if x <= 5 :\n",
    "    print('Less than or Equals 5')\n",
    "if x != 6 :\n",
    "    print('Not equal 6')"
   ]
  },
  {
   "cell_type": "code",
   "execution_count": 6,
   "id": "f48869f8",
   "metadata": {},
   "outputs": [
    {
     "name": "stdout",
     "output_type": "stream",
     "text": [
      "Before 5\n",
      "Is 5\n",
      "Is Still 5\n",
      "Third 5\n",
      "Afterwards 5\n",
      "Before 6\n",
      "Afterwards 6\n"
     ]
    }
   ],
   "source": [
    "x = 5\n",
    "print('Before 5')\n",
    "if x == 5 :\n",
    "    print('Is 5')\n",
    "    print('Is Still 5')\n",
    "    print('Third 5')\n",
    "print('Afterwards 5')\n",
    "print('Before 6')\n",
    "if x == 6 :\n",
    "    print('Is 6')\n",
    "    print('Is Still 6')\n",
    "    print('Third 6')\n",
    "print('Afterwards 6')"
   ]
  },
  {
   "cell_type": "code",
   "execution_count": 7,
   "id": "d4f78d87",
   "metadata": {},
   "outputs": [
    {
     "name": "stdout",
     "output_type": "stream",
     "text": [
      "Bigger than 2\n",
      "Still bigger\n",
      "Done with 2\n",
      "0\n",
      "Done with i 0\n",
      "1\n",
      "Done with i 1\n",
      "2\n",
      "Done with i 2\n",
      "3\n",
      "Bigger than 2\n",
      "Done with i 3\n",
      "4\n",
      "Bigger than 2\n",
      "Done with i 4\n",
      "All Done\n"
     ]
    }
   ],
   "source": [
    "x = 5\n",
    "if x > 2 :\n",
    "    print('Bigger than 2')\n",
    "    print('Still bigger')\n",
    "print('Done with 2')\n",
    "for i in range(5) :\n",
    "    print(i)\n",
    "    if i > 2 : \n",
    "        print('Bigger than 2')\n",
    "    print('Done with i', i)\n",
    "print('All Done') \n"
   ]
  },
  {
   "cell_type": "code",
   "execution_count": 8,
   "id": "992cf28b",
   "metadata": {},
   "outputs": [
    {
     "name": "stdout",
     "output_type": "stream",
     "text": [
      "More than one\n",
      "Less than 100\n",
      "All done\n"
     ]
    }
   ],
   "source": [
    "if x > 1 :\n",
    "    print('More than one')\n",
    "if x < 100 : \n",
    "    print('Less than 100') \n",
    "print('All done')"
   ]
  },
  {
   "cell_type": "code",
   "execution_count": 9,
   "id": "760f3939",
   "metadata": {},
   "outputs": [
    {
     "name": "stdout",
     "output_type": "stream",
     "text": [
      "Bigger\n",
      "All done\n"
     ]
    }
   ],
   "source": [
    "x = 4\n",
    "if x > 2 :\n",
    "    print('Bigger')\n",
    "else :\n",
    "    print('Smaller')\n",
    "print('All done')"
   ]
  },
  {
   "cell_type": "code",
   "execution_count": 10,
   "id": "7b198ade",
   "metadata": {},
   "outputs": [
    {
     "name": "stdout",
     "output_type": "stream",
     "text": [
      "Medium\n",
      "All done\n"
     ]
    }
   ],
   "source": [
    "if x < 2 :\n",
    "    print('small')\n",
    "elif x < 10 :\n",
    "    print('Medium')\n",
    "else :\n",
    "    print('LARGE')\n",
    "print('All done')"
   ]
  },
  {
   "cell_type": "code",
   "execution_count": 11,
   "id": "5ab77f3b",
   "metadata": {},
   "outputs": [
    {
     "name": "stdout",
     "output_type": "stream",
     "text": [
      "small\n",
      "All done\n"
     ]
    }
   ],
   "source": [
    "x = 0 \n",
    "if x < 2 :\n",
    "    print('small')\n",
    "elif x < 10 :\n",
    "    print('Medium')\n",
    "else :\n",
    "    print('LARGE')\n",
    "print('All done')"
   ]
  },
  {
   "cell_type": "code",
   "execution_count": 12,
   "id": "d4ed4c53",
   "metadata": {},
   "outputs": [
    {
     "name": "stdout",
     "output_type": "stream",
     "text": [
      "Medium\n",
      "All done\n"
     ]
    }
   ],
   "source": [
    "x = 5 \n",
    "if x < 2 :\n",
    "    print('small')\n",
    "elif x < 10 :\n",
    "    print('Medium')\n",
    "else :\n",
    "    print('LARGE')\n",
    "print('All done')\n",
    "\n",
    "\n"
   ]
  },
  {
   "cell_type": "code",
   "execution_count": 13,
   "id": "5be1c490",
   "metadata": {},
   "outputs": [
    {
     "name": "stdout",
     "output_type": "stream",
     "text": [
      "LARGE\n",
      "All done\n"
     ]
    }
   ],
   "source": [
    "x = 20\n",
    "if x < 2 :\n",
    "    print('small')\n",
    "elif x < 10 :\n",
    "    print('Medium')\n",
    "else :\n",
    "    print('LARGE')\n",
    "print('All done')"
   ]
  },
  {
   "cell_type": "code",
   "execution_count": 14,
   "id": "97bd282b",
   "metadata": {},
   "outputs": [
    {
     "name": "stdout",
     "output_type": "stream",
     "text": [
      "Large\n"
     ]
    }
   ],
   "source": [
    "if x < 2 :\n",
    "    print('Small')\n",
    "elif x < 10 :\n",
    "    print('Medium')\n",
    "elif x < 20 : \n",
    "    print('Big')\n",
    "elif x < 40 : \n",
    "    print('Large')\n",
    "elif x < 100:\n",
    "    print('Huge')\n",
    "else :\n",
    "    print('Ginormous')"
   ]
  },
  {
   "cell_type": "code",
   "execution_count": 15,
   "id": "a77aeed8",
   "metadata": {},
   "outputs": [
    {
     "name": "stdout",
     "output_type": "stream",
     "text": [
      "Something else\n"
     ]
    }
   ],
   "source": [
    "if x < 2 :\n",
    "    print('Below 2')\n",
    "elif x < 20 :\n",
    "    print('Below 20')\n",
    "elif x < 10 : \n",
    "    print('Below 10')\n",
    "else :\n",
    "    print('Something else')"
   ]
  },
  {
   "cell_type": "code",
   "execution_count": 16,
   "id": "33bc7efe",
   "metadata": {},
   "outputs": [
    {
     "name": "stdout",
     "output_type": "stream",
     "text": [
      "Two or more\n"
     ]
    }
   ],
   "source": [
    "if x < 2 :\n",
    "    print('Below 2')\n",
    "elif x >= 2 : \n",
    "    print('Two or more')\n",
    "else :\n",
    "    print('Something else')"
   ]
  },
  {
   "cell_type": "code",
   "execution_count": 22,
   "id": "08953ed5",
   "metadata": {},
   "outputs": [
    {
     "name": "stdout",
     "output_type": "stream",
     "text": [
      "Hello\n",
      "Done -1\n"
     ]
    }
   ],
   "source": [
    "astr = 'Bob'\n",
    "try:\n",
    "    print('Hello') \n",
    "    istr = int(astr)\n",
    "    print('There') \n",
    "except:\n",
    "    istr = -1\n",
    "print('Done', istr)"
   ]
  },
  {
   "cell_type": "code",
   "execution_count": null,
   "id": "0cbd37d1",
   "metadata": {},
   "outputs": [],
   "source": [
    "rawstr = input('Enter a number:')\n",
    "try: \n",
    "    ival = int(rawstr)\n",
    "except: \n",
    "    ival = -1\n",
    "if ival > 0 : \n",
    "    print('Nice work')\n",
    "else: \n",
    "    print('Not a number')\n"
   ]
  },
  {
   "cell_type": "code",
   "execution_count": 1,
   "id": "98af0c9b",
   "metadata": {},
   "outputs": [
    {
     "name": "stdout",
     "output_type": "stream",
     "text": [
      "Write how many hours you worked: 49\n",
      "How much wage was promised: 1\n",
      "53.5\n"
     ]
    }
   ],
   "source": [
    "hours_worked = int(input('Write how many hours you worked: '))\n",
    "wage = int(input('How much wage was promised: '))\n",
    "\n",
    "if hours_worked > 40:\n",
    "    extra_hours = hours_worked - 40\n",
    "    pay = wage * 40 + (extra_hours * 1.5 * wage)\n",
    "else:\n",
    "    pay = wage * hours_worked\n",
    "\n",
    "print(pay)\n"
   ]
  },
  {
   "cell_type": "code",
   "execution_count": null,
   "id": "44639e5f",
   "metadata": {},
   "outputs": [],
   "source": []
  },
  {
   "cell_type": "code",
   "execution_count": null,
   "id": "8eafcc7c",
   "metadata": {},
   "outputs": [],
   "source": []
  },
  {
   "cell_type": "code",
   "execution_count": null,
   "id": "b76defdf",
   "metadata": {},
   "outputs": [],
   "source": []
  }
 ],
 "metadata": {
  "kernelspec": {
   "display_name": "Python 3 (ipykernel)",
   "language": "python",
   "name": "python3"
  },
  "language_info": {
   "codemirror_mode": {
    "name": "ipython",
    "version": 3
   },
   "file_extension": ".py",
   "mimetype": "text/x-python",
   "name": "python",
   "nbconvert_exporter": "python",
   "pygments_lexer": "ipython3",
   "version": "3.11.4"
  }
 },
 "nbformat": 4,
 "nbformat_minor": 5
}
