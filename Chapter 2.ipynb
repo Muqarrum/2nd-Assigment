{
 "cells": [
  {
   "cell_type": "code",
   "execution_count": 1,
   "id": "74e8992c",
   "metadata": {},
   "outputs": [
    {
     "name": "stdout",
     "output_type": "stream",
     "text": [
      "437.5\n"
     ]
    }
   ],
   "source": [
    "hours = 35.0\n",
    "rate = 12.50\n",
    "pay= hours*rate\n",
    "print (pay)"
   ]
  },
  {
   "cell_type": "code",
   "execution_count": 2,
   "id": "3e1c0639",
   "metadata": {},
   "outputs": [
    {
     "name": "stdout",
     "output_type": "stream",
     "text": [
      "4\n"
     ]
    }
   ],
   "source": [
    "x=2\n",
    "x= x+2\n",
    "print (x)"
   ]
  },
  {
   "cell_type": "code",
   "execution_count": 11,
   "id": "31be9242",
   "metadata": {},
   "outputs": [
    {
     "name": "stdout",
     "output_type": "stream",
     "text": [
      "5\n",
      "HellowWorld\n"
     ]
    }
   ],
   "source": [
    "ddd= 1+4\n",
    "print (ddd)\n",
    "eee= 'Hellow'+'World'\n",
    "print (eee)"
   ]
  },
  {
   "cell_type": "code",
   "execution_count": 12,
   "id": "7c20bdbe",
   "metadata": {},
   "outputs": [
    {
     "data": {
      "text/plain": [
       "str"
      ]
     },
     "execution_count": 12,
     "metadata": {},
     "output_type": "execute_result"
    }
   ],
   "source": [
    "eee= 'hellow ' 'world'\n",
    "type (eee)"
   ]
  },
  {
   "cell_type": "code",
   "execution_count": 13,
   "id": "47f0ce77",
   "metadata": {},
   "outputs": [
    {
     "data": {
      "text/plain": [
       "int"
      ]
     },
     "execution_count": 13,
     "metadata": {},
     "output_type": "execute_result"
    }
   ],
   "source": [
    "hellow = 1\n",
    "type (hellow)"
   ]
  },
  {
   "cell_type": "code",
   "execution_count": 14,
   "id": "7c3dfea0",
   "metadata": {},
   "outputs": [
    {
     "data": {
      "text/plain": [
       "float"
      ]
     },
     "execution_count": 14,
     "metadata": {},
     "output_type": "execute_result"
    }
   ],
   "source": [
    "temp= 99.0\n",
    "type (temp)"
   ]
  },
  {
   "cell_type": "code",
   "execution_count": 16,
   "id": "51b1697e",
   "metadata": {},
   "outputs": [
    {
     "name": "stdout",
     "output_type": "stream",
     "text": [
      "199.0\n"
     ]
    },
    {
     "data": {
      "text/plain": [
       "int"
      ]
     },
     "execution_count": 16,
     "metadata": {},
     "output_type": "execute_result"
    }
   ],
   "source": [
    "print(float(99) + 100)\n",
    "i = 42\n",
    "type(i)\n",
    "f = float(i)\n",
    "print(f)\n",
    "type(f)\n"
   ]
  },
  {
   "cell_type": "code",
   "execution_count": 17,
   "id": "f8e8378c",
   "metadata": {},
   "outputs": [
    {
     "name": "stdout",
     "output_type": "stream",
     "text": [
      "42.0\n"
     ]
    },
    {
     "data": {
      "text/plain": [
       "float"
      ]
     },
     "execution_count": 17,
     "metadata": {},
     "output_type": "execute_result"
    }
   ],
   "source": [
    "f = float(i)\n",
    "print(f)\n",
    "type(f)\n"
   ]
  },
  {
   "cell_type": "code",
   "execution_count": 18,
   "id": "8053ae3d",
   "metadata": {},
   "outputs": [
    {
     "name": "stdout",
     "output_type": "stream",
     "text": [
      "5.0\n",
      "0.99\n"
     ]
    }
   ],
   "source": [
    " print(10 / 2)\n",
    "print(99.0 / 100.0)"
   ]
  },
  {
   "cell_type": "code",
   "execution_count": 22,
   "id": "40a0823b",
   "metadata": {},
   "outputs": [
    {
     "name": "stdout",
     "output_type": "stream",
     "text": [
      "5.0\n"
     ]
    }
   ],
   "source": [
    "print (10/2.0)"
   ]
  },
  {
   "cell_type": "code",
   "execution_count": 26,
   "id": "f3f8fc74",
   "metadata": {},
   "outputs": [
    {
     "name": "stdout",
     "output_type": "stream",
     "text": [
      "12\n"
     ]
    }
   ],
   "source": [
    "x=10.0\n",
    "y=2.0\n",
    "x= int (x)\n",
    "y= int (y)\n",
    "x=x+y\n",
    "print (x)"
   ]
  },
  {
   "cell_type": "code",
   "execution_count": 27,
   "id": "900a33d3",
   "metadata": {},
   "outputs": [
    {
     "name": "stdout",
     "output_type": "stream",
     "text": [
      "Who are you? Lord Butter\n",
      "Welcome Lord Butter\n"
     ]
    }
   ],
   "source": [
    "nam = input('Who are you? ')\n",
    "print('Welcome', nam)\n"
   ]
  },
  {
   "cell_type": "code",
   "execution_count": 28,
   "id": "03215ddf",
   "metadata": {},
   "outputs": [
    {
     "name": "stdout",
     "output_type": "stream",
     "text": [
      "Europe floor?22\n",
      "US floor 23\n"
     ]
    }
   ],
   "source": [
    "inp = input('Europe floor?')\n",
    "usf = int(inp) + 1\n",
    "print('US floor', usf)\n"
   ]
  },
  {
   "cell_type": "code",
   "execution_count": 33,
   "id": "d8dedaae",
   "metadata": {},
   "outputs": [
    {
     "name": "stdout",
     "output_type": "stream",
     "text": [
      "Size12\n",
      "12 cm\n"
     ]
    }
   ],
   "source": [
    "#this line is a comment hence this will not be executed\n",
    "nami =input ('Size')\n",
    "#now the previous line will take input for the nami clothes type\n",
    "zoo = nami + ' cm'\n",
    "print (zoo)"
   ]
  },
  {
   "cell_type": "code",
   "execution_count": 46,
   "id": "2b7ae25a",
   "metadata": {},
   "outputs": [
    {
     "name": "stdout",
     "output_type": "stream",
     "text": [
      "Enter the Amount of Hours You Worked:24\n",
      "what was the promised wage:6\n",
      "Your Pay is: 144\n"
     ]
    }
   ],
   "source": [
    "hours= input  ('Enter the Amount of Hours You Worked:')\n",
    "wage= input ('what was the promised wage:')\n",
    "pay=int (hours)*int (wage)\n",
    "print ('Your Pay is:', pay)"
   ]
  },
  {
   "cell_type": "code",
   "execution_count": 48,
   "id": "7b569250",
   "metadata": {},
   "outputs": [
    {
     "name": "stdout",
     "output_type": "stream",
     "text": [
      "Enter the Amount of Hours You Worked:24\n",
      "what was the promised wage:6\n",
      "Your Pay is: 144\n"
     ]
    }
   ],
   "source": [
    "hours= int (input ('Enter the Amount of Hours You Worked:'))\n",
    "wage= int (input ('what was the promised wage:'))\n",
    "pay= hours*wage\n",
    "print ('Your Pay is:', pay)"
   ]
  },
  {
   "cell_type": "code",
   "execution_count": null,
   "id": "17665428",
   "metadata": {},
   "outputs": [],
   "source": []
  }
 ],
 "metadata": {
  "kernelspec": {
   "display_name": "Python 3 (ipykernel)",
   "language": "python",
   "name": "python3"
  },
  "language_info": {
   "codemirror_mode": {
    "name": "ipython",
    "version": 3
   },
   "file_extension": ".py",
   "mimetype": "text/x-python",
   "name": "python",
   "nbconvert_exporter": "python",
   "pygments_lexer": "ipython3",
   "version": "3.11.4"
  }
 },
 "nbformat": 4,
 "nbformat_minor": 5
}
