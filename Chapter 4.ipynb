{
 "cells": [
  {
   "cell_type": "code",
   "execution_count": 3,
   "id": "cbf116ef",
   "metadata": {},
   "outputs": [
    {
     "name": "stdout",
     "output_type": "stream",
     "text": [
      "hello\n",
      "fun\n",
      "zip\n",
      "hello\n",
      "fun\n"
     ]
    }
   ],
   "source": [
    "def thing ():\n",
    "    print(\"hello\")\n",
    "    print(\"fun\")\n",
    "thing()\n",
    "print(\"zip\")\n",
    "thing()"
   ]
  },
  {
   "cell_type": "code",
   "execution_count": 5,
   "id": "ab02e186",
   "metadata": {},
   "outputs": [
    {
     "name": "stdout",
     "output_type": "stream",
     "text": [
      "w\n",
      " \n"
     ]
    }
   ],
   "source": [
    "big =max(\"hello world\")\n",
    "print(big)\n",
    "tiny =min(\"hello world\")\n",
    "print(tiny)"
   ]
  },
  {
   "cell_type": "code",
   "execution_count": 7,
   "id": "6d408508",
   "metadata": {},
   "outputs": [
    {
     "name": "stdout",
     "output_type": "stream",
     "text": [
      "0.99\n"
     ]
    }
   ],
   "source": [
    "print(float(99) / 100)\n",
    "       "
   ]
  },
  {
   "cell_type": "code",
   "execution_count": 8,
   "id": "9af4b44f",
   "metadata": {},
   "outputs": [
    {
     "data": {
      "text/plain": [
       "int"
      ]
     },
     "execution_count": 8,
     "metadata": {},
     "output_type": "execute_result"
    }
   ],
   "source": [
    "i=42\n",
    "type (i)"
   ]
  },
  {
   "cell_type": "code",
   "execution_count": 11,
   "id": "949cd0df",
   "metadata": {},
   "outputs": [
    {
     "name": "stdout",
     "output_type": "stream",
     "text": [
      "-2.5\n"
     ]
    }
   ],
   "source": [
    "print(1 +2* float(3)/4-5)"
   ]
  },
  {
   "cell_type": "code",
   "execution_count": 12,
   "id": "913e1221",
   "metadata": {},
   "outputs": [
    {
     "name": "stdout",
     "output_type": "stream",
     "text": [
      "42.0\n"
     ]
    }
   ],
   "source": [
    "f=float(i)\n",
    "print (f)"
   ]
  },
  {
   "cell_type": "code",
   "execution_count": 18,
   "id": "acc43d5a",
   "metadata": {},
   "outputs": [
    {
     "data": {
      "text/plain": [
       "str"
      ]
     },
     "execution_count": 18,
     "metadata": {},
     "output_type": "execute_result"
    }
   ],
   "source": [
    "sval= '123'\n",
    "type (sval)"
   ]
  },
  {
   "cell_type": "code",
   "execution_count": 14,
   "id": "46d1f852",
   "metadata": {},
   "outputs": [
    {
     "data": {
      "text/plain": [
       "str"
      ]
     },
     "execution_count": 14,
     "metadata": {},
     "output_type": "execute_result"
    }
   ],
   "source": [
    "ival = int(sval)\n",
    "type (sval)"
   ]
  },
  {
   "cell_type": "code",
   "execution_count": 15,
   "id": "2c29c604",
   "metadata": {},
   "outputs": [
    {
     "name": "stdout",
     "output_type": "stream",
     "text": [
      "124\n"
     ]
    }
   ],
   "source": [
    "print (ival+1)"
   ]
  },
  {
   "cell_type": "code",
   "execution_count": 20,
   "id": "183e25a8",
   "metadata": {},
   "outputs": [
    {
     "name": "stdout",
     "output_type": "stream",
     "text": [
      "Hellow Old Man Let me Sing u a Song\n",
      "I'm a lumberjack, and I'm okay.\n",
      "I sleep all night and I work all day.\n"
     ]
    }
   ],
   "source": [
    "def print_lyrics():\n",
    "    print(\"I'm a lumberjack, and I'm okay.\")\n",
    "    print('I sleep all night and I work all day.')\n",
    "print ('Hellow Old Man Let me Sing u a Song')\n",
    "print_lyrics()\n"
   ]
  },
  {
   "cell_type": "code",
   "execution_count": 24,
   "id": "5a22340e",
   "metadata": {},
   "outputs": [
    {
     "name": "stdout",
     "output_type": "stream",
     "text": [
      "Hello\n",
      "Yo\n",
      "7\n"
     ]
    }
   ],
   "source": [
    "x = 5\n",
    "print('Hello')\n",
    "def print_lyrics():\n",
    "    print(\"I'm a lumberjack, and I'm okay.\")\n",
    "    print('I sleep all night and I work all day.')\n",
    "print('Yo')\n",
    "x = x + 2\n",
    "print(x)"
   ]
  },
  {
   "cell_type": "code",
   "execution_count": 25,
   "id": "fe65ea75",
   "metadata": {},
   "outputs": [
    {
     "name": "stdout",
     "output_type": "stream",
     "text": [
      "Hello\n",
      "I'm a lumberjack, and I'm okay.\n",
      "I sleep all night and I work all day.\n",
      "Yo\n",
      "7\n"
     ]
    }
   ],
   "source": [
    "x = 5\n",
    "print('Hello')\n",
    "def print_lyrics(): \n",
    "    print(\"I'm a lumberjack, and I'm okay.\")\n",
    "    print('I sleep all night and I work all day.')\n",
    "    print('Yo')\n",
    "print_lyrics()\n",
    "x = x + 2\n",
    "print(x)"
   ]
  },
  {
   "cell_type": "code",
   "execution_count": 28,
   "id": "62b5cdf1",
   "metadata": {},
   "outputs": [
    {
     "name": "stdout",
     "output_type": "stream",
     "text": [
      "Hello\n",
      "Hola\n",
      "Bonjour\n"
     ]
    }
   ],
   "source": [
    "def greet(lang):\n",
    "    if lang == 'es':\n",
    "      print('Hola')\n",
    "    elif lang == 'fr':\n",
    "      print('Bonjour')\n",
    "    else:\n",
    "      print('Hello') \n",
    "greet('en')\n",
    "greet('es')\n",
    "greet('fr')\n"
   ]
  },
  {
   "cell_type": "code",
   "execution_count": 30,
   "id": "7c4db07a",
   "metadata": {},
   "outputs": [
    {
     "name": "stdout",
     "output_type": "stream",
     "text": [
      "Hello Glenn\n",
      "Hello Sally\n"
     ]
    }
   ],
   "source": [
    "def greet():\n",
    "    return \"Hello\"\n",
    "print(greet(), \"Glenn\")\n",
    "print(greet(), \"Sally\")"
   ]
  },
  {
   "cell_type": "code",
   "execution_count": 31,
   "id": "f46b13a5",
   "metadata": {},
   "outputs": [
    {
     "name": "stdout",
     "output_type": "stream",
     "text": [
      "Hello Glenn\n",
      "Hola Sally\n",
      "Bonjour Michael\n"
     ]
    }
   ],
   "source": [
    "def greet(lang):\n",
    "    if lang == 'es':\n",
    "         return 'Hola'\n",
    "    elif lang == 'fr':\n",
    "        return 'Bonjour'\n",
    "    else:\n",
    "        return 'Hello'\n",
    "print(greet('en'),'Glenn')\n",
    "print(greet('es'),'Sally')\n",
    "print(greet('fr'),'Michael')\n"
   ]
  },
  {
   "cell_type": "code",
   "execution_count": 33,
   "id": "c4884e01",
   "metadata": {},
   "outputs": [
    {
     "name": "stdout",
     "output_type": "stream",
     "text": [
      "w\n"
     ]
    }
   ],
   "source": [
    "big = max('Hello world')\n",
    "print(big)"
   ]
  },
  {
   "cell_type": "code",
   "execution_count": 34,
   "id": "731d7854",
   "metadata": {},
   "outputs": [
    {
     "name": "stdout",
     "output_type": "stream",
     "text": [
      "8\n"
     ]
    }
   ],
   "source": [
    "def addtwo(a, b):\n",
    "    added = a + b\n",
    "    return added\n",
    "x = addtwo(3, 5)\n",
    "print(x)"
   ]
  },
  {
   "cell_type": "code",
   "execution_count": 35,
   "id": "698ab100",
   "metadata": {},
   "outputs": [
    {
     "name": "stdout",
     "output_type": "stream",
     "text": [
      "Enter hours worked: 45\n",
      "Enter hourly rate: 10\n",
      "Total pay:  475.0\n"
     ]
    }
   ],
   "source": [
    "def computepay(hours, rate):\n",
    "    if hours <= 40:\n",
    "        total_pay = hours * rate\n",
    "    else:\n",
    "        regular_hours = 40\n",
    "        overtime_hours = hours - 40\n",
    "        overtime_pay = overtime_hours * rate * 1.5\n",
    "        total_pay = regular_hours * rate + overtime_pay\n",
    "        return total_pay\n",
    "hours_worked = float(input(\"Enter hours worked: \"))\n",
    "hourly_rate = float(input(\"Enter hourly rate: \"))\n",
    "total_payment = computepay(hours_worked, hourly_rate)\n",
    "print(\"Total pay: \", total_payment)\n"
   ]
  },
  {
   "cell_type": "code",
   "execution_count": null,
   "id": "12357d5b",
   "metadata": {},
   "outputs": [],
   "source": []
  }
 ],
 "metadata": {
  "kernelspec": {
   "display_name": "Python 3 (ipykernel)",
   "language": "python",
   "name": "python3"
  },
  "language_info": {
   "codemirror_mode": {
    "name": "ipython",
    "version": 3
   },
   "file_extension": ".py",
   "mimetype": "text/x-python",
   "name": "python",
   "nbconvert_exporter": "python",
   "pygments_lexer": "ipython3",
   "version": "3.11.4"
  }
 },
 "nbformat": 4,
 "nbformat_minor": 5
}
