{
 "cells": [
  {
   "cell_type": "code",
   "execution_count": 4,
   "id": "43f93392",
   "metadata": {},
   "outputs": [
    {
     "name": "stdout",
     "output_type": "stream",
     "text": [
      "Hellothere\n"
     ]
    }
   ],
   "source": [
    "str1 = \"Hello\"\n",
    "str2 = 'there'\n",
    "bob = str1 + str2\n",
    "print(bob)"
   ]
  },
  {
   "cell_type": "code",
   "execution_count": 10,
   "id": "30fb4756",
   "metadata": {},
   "outputs": [
    {
     "name": "stdout",
     "output_type": "stream",
     "text": [
      "124\n"
     ]
    }
   ],
   "source": [
    " str3 = '123'\n",
    "x = int(str3) + 1\n",
    "print(x)"
   ]
  },
  {
   "cell_type": "code",
   "execution_count": 14,
   "id": "17d2bf4d",
   "metadata": {},
   "outputs": [
    {
     "name": "stdout",
     "output_type": "stream",
     "text": [
      "Enter:me\n",
      "me\n"
     ]
    }
   ],
   "source": [
    "name = input('Enter:')\n",
    "print(name)"
   ]
  },
  {
   "cell_type": "code",
   "execution_count": 15,
   "id": "19b9bafb",
   "metadata": {},
   "outputs": [
    {
     "name": "stdout",
     "output_type": "stream",
     "text": [
      "Enter:100\n"
     ]
    }
   ],
   "source": [
    "apple = input('Enter:')"
   ]
  },
  {
   "cell_type": "code",
   "execution_count": 17,
   "id": "3179c1fb",
   "metadata": {},
   "outputs": [
    {
     "name": "stdout",
     "output_type": "stream",
     "text": [
      "90\n"
     ]
    }
   ],
   "source": [
    "x = int(apple)- 10\n",
    "print(x)"
   ]
  },
  {
   "cell_type": "code",
   "execution_count": 18,
   "id": "8d0237f4",
   "metadata": {},
   "outputs": [
    {
     "name": "stdout",
     "output_type": "stream",
     "text": [
      "a\n"
     ]
    }
   ],
   "source": [
    "fruit = 'banana'\n",
    "letter = fruit[1]\n",
    "print(letter)"
   ]
  },
  {
   "cell_type": "code",
   "execution_count": 19,
   "id": "b0a392b4",
   "metadata": {},
   "outputs": [
    {
     "name": "stdout",
     "output_type": "stream",
     "text": [
      "n\n"
     ]
    }
   ],
   "source": [
    "x = 3\n",
    "w = fruit[x - 1]\n",
    "print(w)"
   ]
  },
  {
   "cell_type": "code",
   "execution_count": 20,
   "id": "3fc9bf74",
   "metadata": {},
   "outputs": [
    {
     "name": "stdout",
     "output_type": "stream",
     "text": [
      "6\n"
     ]
    }
   ],
   "source": [
    "fruit = 'banana'\n",
    "print(len(fruit))"
   ]
  },
  {
   "cell_type": "code",
   "execution_count": 23,
   "id": "e7319fac",
   "metadata": {},
   "outputs": [
    {
     "name": "stdout",
     "output_type": "stream",
     "text": [
      "0 b\n",
      "1 a\n",
      "2 n\n",
      "3 a\n",
      "4 n\n",
      "5 a\n"
     ]
    }
   ],
   "source": [
    "fruit = 'banana'\n",
    "index = 0\n",
    "while index < len(fruit): \n",
    "    letter = fruit[index]\n",
    "    print(index, letter)\n",
    "    index = index + 1"
   ]
  },
  {
   "cell_type": "code",
   "execution_count": 24,
   "id": "8ba0c109",
   "metadata": {},
   "outputs": [
    {
     "name": "stdout",
     "output_type": "stream",
     "text": [
      "b\n",
      "a\n",
      "n\n",
      "a\n",
      "n\n",
      "a\n"
     ]
    }
   ],
   "source": [
    "fruit = 'banana'\n",
    "for letter in fruit:\n",
    "    print(letter)"
   ]
  },
  {
   "cell_type": "code",
   "execution_count": 25,
   "id": "356b2601",
   "metadata": {},
   "outputs": [
    {
     "name": "stdout",
     "output_type": "stream",
     "text": [
      "b\n",
      "a\n",
      "n\n",
      "a\n",
      "n\n",
      "a\n",
      "b\n",
      "a\n",
      "n\n",
      "a\n",
      "n\n",
      "a\n"
     ]
    }
   ],
   "source": [
    "fruit = 'banana'\n",
    "for letter in fruit :\n",
    "    print(letter)\n",
    "index = 0\n",
    "while index < len(fruit) :\n",
    "    letter = fruit[index]\n",
    "    print(letter)\n",
    "    index = index + 1"
   ]
  },
  {
   "cell_type": "code",
   "execution_count": 26,
   "id": "08859b1c",
   "metadata": {},
   "outputs": [
    {
     "name": "stdout",
     "output_type": "stream",
     "text": [
      "3\n"
     ]
    }
   ],
   "source": [
    "word = 'banana'\n",
    "count = 0\n",
    "for letter in word :\n",
    "    if letter == 'a' :\n",
    "        count = count + 1\n",
    "print(count)        "
   ]
  },
  {
   "cell_type": "code",
   "execution_count": 27,
   "id": "24e889b6",
   "metadata": {},
   "outputs": [
    {
     "name": "stdout",
     "output_type": "stream",
     "text": [
      "b\n",
      "a\n",
      "n\n",
      "a\n",
      "n\n",
      "a\n"
     ]
    }
   ],
   "source": [
    "for letter in 'banana' :\n",
    "    print(letter)"
   ]
  },
  {
   "cell_type": "code",
   "execution_count": 29,
   "id": "8867b560",
   "metadata": {},
   "outputs": [
    {
     "name": "stdout",
     "output_type": "stream",
     "text": [
      "Mont\n",
      "P\n",
      "Python\n"
     ]
    }
   ],
   "source": [
    "s = 'Monty Python'\n",
    "print(s[0:4])\n",
    "print(s[6:7])\n",
    "print(s[6:20])"
   ]
  },
  {
   "cell_type": "code",
   "execution_count": 30,
   "id": "74589ca0",
   "metadata": {},
   "outputs": [
    {
     "name": "stdout",
     "output_type": "stream",
     "text": [
      "HelloThere\n"
     ]
    }
   ],
   "source": [
    "a = 'Hello'\n",
    "b = a + 'There'\n",
    "print(b)"
   ]
  },
  {
   "cell_type": "code",
   "execution_count": 31,
   "id": "787b38a4",
   "metadata": {},
   "outputs": [
    {
     "name": "stdout",
     "output_type": "stream",
     "text": [
      "Hello There\n"
     ]
    }
   ],
   "source": [
    "c = a + ' ' + 'There'\n",
    "print(c)"
   ]
  },
  {
   "cell_type": "code",
   "execution_count": 32,
   "id": "86fa574d",
   "metadata": {},
   "outputs": [
    {
     "data": {
      "text/plain": [
       "True"
      ]
     },
     "execution_count": 32,
     "metadata": {},
     "output_type": "execute_result"
    }
   ],
   "source": [
    "fruit = 'banana'\n",
    "'n' in fruit"
   ]
  },
  {
   "cell_type": "code",
   "execution_count": 33,
   "id": "bb3522cc",
   "metadata": {},
   "outputs": [
    {
     "data": {
      "text/plain": [
       "False"
      ]
     },
     "execution_count": 33,
     "metadata": {},
     "output_type": "execute_result"
    }
   ],
   "source": [
    "'m' in fruit"
   ]
  },
  {
   "cell_type": "code",
   "execution_count": 34,
   "id": "0888a763",
   "metadata": {},
   "outputs": [
    {
     "data": {
      "text/plain": [
       "True"
      ]
     },
     "execution_count": 34,
     "metadata": {},
     "output_type": "execute_result"
    }
   ],
   "source": [
    "'nan' in fruit\n"
   ]
  },
  {
   "cell_type": "code",
   "execution_count": 35,
   "id": "79e558fc",
   "metadata": {},
   "outputs": [
    {
     "name": "stdout",
     "output_type": "stream",
     "text": [
      "Found it!\n"
     ]
    }
   ],
   "source": [
    "if 'a' in fruit :\n",
    "    print('Found it!')"
   ]
  },
  {
   "cell_type": "code",
   "execution_count": 37,
   "id": "6f514d1f",
   "metadata": {},
   "outputs": [
    {
     "name": "stdout",
     "output_type": "stream",
     "text": [
      "All right, bananas.\n",
      "All right, bananas.\n"
     ]
    }
   ],
   "source": [
    "if word == 'banana':\n",
    "    print('All right, bananas.')\n",
    "if word < 'banana':\n",
    "    print('Your word,' + word + ', comes before banana.')\n",
    "elif word > 'banana':\n",
    "    print('Your word,' + word + ', comes after banana.')\n",
    "else:\n",
    "    print('All right, bananas.')\n",
    "\n"
   ]
  },
  {
   "cell_type": "code",
   "execution_count": 38,
   "id": "781f1a21",
   "metadata": {},
   "outputs": [
    {
     "name": "stdout",
     "output_type": "stream",
     "text": [
      "hello bob\n"
     ]
    }
   ],
   "source": [
    "greet = 'Hello Bob'\n",
    "zap = greet.lower()\n",
    "print(zap)"
   ]
  },
  {
   "cell_type": "code",
   "execution_count": 39,
   "id": "0d8c6215",
   "metadata": {},
   "outputs": [
    {
     "name": "stdout",
     "output_type": "stream",
     "text": [
      "Hello Bob\n"
     ]
    }
   ],
   "source": [
    "print(greet)"
   ]
  },
  {
   "cell_type": "code",
   "execution_count": 40,
   "id": "749c2c73",
   "metadata": {},
   "outputs": [
    {
     "name": "stdout",
     "output_type": "stream",
     "text": [
      "hi there\n"
     ]
    }
   ],
   "source": [
    "print('Hi There'.lower())"
   ]
  },
  {
   "cell_type": "code",
   "execution_count": 41,
   "id": "ff4a41c4",
   "metadata": {},
   "outputs": [
    {
     "name": "stdout",
     "output_type": "stream",
     "text": [
      "2\n"
     ]
    }
   ],
   "source": [
    "fruit = 'banana'\n",
    "pos = fruit.find('na')\n",
    "print(pos)"
   ]
  },
  {
   "cell_type": "code",
   "execution_count": 42,
   "id": "eca88094",
   "metadata": {},
   "outputs": [
    {
     "name": "stdout",
     "output_type": "stream",
     "text": [
      "-1\n"
     ]
    }
   ],
   "source": [
    "aa = fruit.find('z')\n",
    "print(aa)"
   ]
  },
  {
   "cell_type": "code",
   "execution_count": 43,
   "id": "557db156",
   "metadata": {},
   "outputs": [
    {
     "name": "stdout",
     "output_type": "stream",
     "text": [
      "HELLO BOB\n"
     ]
    }
   ],
   "source": [
    "greet = 'Hello Bob'\n",
    "nnn = greet.upper()\n",
    "print(nnn)"
   ]
  },
  {
   "cell_type": "code",
   "execution_count": 44,
   "id": "caaba059",
   "metadata": {},
   "outputs": [
    {
     "name": "stdout",
     "output_type": "stream",
     "text": [
      "hello bob\n"
     ]
    }
   ],
   "source": [
    "www = greet.lower()\n",
    "print(www)"
   ]
  },
  {
   "cell_type": "code",
   "execution_count": 45,
   "id": "2dbf3acf",
   "metadata": {},
   "outputs": [
    {
     "name": "stdout",
     "output_type": "stream",
     "text": [
      "Hello Jane\n"
     ]
    }
   ],
   "source": [
    "greet = 'Hello Bob'\n",
    "nstr = greet.replace('Bob','Jane')\n",
    "print(nstr)"
   ]
  },
  {
   "cell_type": "code",
   "execution_count": 46,
   "id": "57319841",
   "metadata": {},
   "outputs": [
    {
     "name": "stdout",
     "output_type": "stream",
     "text": [
      "HellX BXb\n"
     ]
    }
   ],
   "source": [
    "nstr = greet.replace('o','X')\n",
    "print(nstr)"
   ]
  },
  {
   "cell_type": "code",
   "execution_count": 47,
   "id": "3d4f414a",
   "metadata": {},
   "outputs": [
    {
     "data": {
      "text/plain": [
       "'Hello Bob '"
      ]
     },
     "execution_count": 47,
     "metadata": {},
     "output_type": "execute_result"
    }
   ],
   "source": [
    "greet = ' Hello Bob '\n",
    "greet.lstrip()"
   ]
  },
  {
   "cell_type": "code",
   "execution_count": 48,
   "id": "7adc9ede",
   "metadata": {},
   "outputs": [
    {
     "data": {
      "text/plain": [
       "' Hello Bob'"
      ]
     },
     "execution_count": 48,
     "metadata": {},
     "output_type": "execute_result"
    }
   ],
   "source": [
    "greet.rstrip()"
   ]
  },
  {
   "cell_type": "code",
   "execution_count": 49,
   "id": "c668577a",
   "metadata": {},
   "outputs": [
    {
     "data": {
      "text/plain": [
       "'Hello Bob'"
      ]
     },
     "execution_count": 49,
     "metadata": {},
     "output_type": "execute_result"
    }
   ],
   "source": [
    " greet.strip()"
   ]
  },
  {
   "cell_type": "code",
   "execution_count": 50,
   "id": "dacce356",
   "metadata": {},
   "outputs": [
    {
     "data": {
      "text/plain": [
       "True"
      ]
     },
     "execution_count": 50,
     "metadata": {},
     "output_type": "execute_result"
    }
   ],
   "source": [
    "line = 'Please have a nice day'\n",
    "line.startswith('Please')"
   ]
  },
  {
   "cell_type": "code",
   "execution_count": 52,
   "id": "f88ab8dd",
   "metadata": {},
   "outputs": [
    {
     "data": {
      "text/plain": [
       "False"
      ]
     },
     "execution_count": 52,
     "metadata": {},
     "output_type": "execute_result"
    }
   ],
   "source": [
    "line.startswith('p')"
   ]
  },
  {
   "cell_type": "code",
   "execution_count": null,
   "id": "cf1ef331",
   "metadata": {},
   "outputs": [],
   "source": []
  }
 ],
 "metadata": {
  "kernelspec": {
   "display_name": "Python 3 (ipykernel)",
   "language": "python",
   "name": "python3"
  },
  "language_info": {
   "codemirror_mode": {
    "name": "ipython",
    "version": 3
   },
   "file_extension": ".py",
   "mimetype": "text/x-python",
   "name": "python",
   "nbconvert_exporter": "python",
   "pygments_lexer": "ipython3",
   "version": "3.11.4"
  }
 },
 "nbformat": 4,
 "nbformat_minor": 5
}
